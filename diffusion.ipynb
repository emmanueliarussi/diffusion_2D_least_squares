{
 "cells": [
  {
   "cell_type": "code",
   "execution_count": 45,
   "metadata": {},
   "outputs": [],
   "source": [
    "import numpy as np\n",
    "from matplotlib import pyplot as plt\n",
    "import numpy as np\n",
    "import cv2\n",
    "from scipy.linalg import cho_factor, cho_solve"
   ]
  },
  {
   "cell_type": "code",
   "execution_count": 46,
   "metadata": {},
   "outputs": [],
   "source": [
    "# Max index = number of unknowns\n",
    "def getVarIndex(x,y,width,height):\n",
    "    return y+(x*width)"
   ]
  },
  {
   "cell_type": "code",
   "execution_count": 47,
   "metadata": {},
   "outputs": [],
   "source": [
    "def setUpNormalSystem(width,height,constraints):\n",
    "\n",
    "    # Constraints to array\n",
    "    constraints_np = np.array(constraints)\n",
    "    const_mat  = np.full((height, width),-1.,np.float)\n",
    "    weight_mat = np.full((height, width),0.,np.float)\n",
    "    \n",
    "    const_mat[constraints_np[:, 0].astype(int), constraints_np[:, 1].astype(int)]  = constraints_np[:, 2]\n",
    "    weight_mat[constraints_np[:, 0].astype(int), constraints_np[:, 1].astype(int)] = constraints_np[:, 3]\n",
    "    \n",
    "    # Triplet list -> (indx_constraint, unknown, val)\n",
    "    A_triplet_list = []\n",
    "    b_list = []\n",
    "    row = 0\n",
    "    \n",
    "    # Set up constraints\n",
    "    for x in range(0,width):\n",
    "        for y in range(0,height):\n",
    "            #print(x,y,\" --> \",getVarIndex(x,y,width,height))\n",
    "            # Horizontal Smoothness\n",
    "            if((x+1)!=width):\n",
    "                A_triplet_list.append((row,getVarIndex(x,y,width,height),-1))\n",
    "                A_triplet_list.append((row,getVarIndex(x+1,y,width,height),1))\n",
    "                row = row + 1\n",
    "\n",
    "            # Vertical Smoothness\n",
    "            if((y+1)!=height):\n",
    "                A_triplet_list.append((row,getVarIndex(x,y,width,height),-1))\n",
    "                A_triplet_list.append((row,getVarIndex(x,y+1,width,height),1))\n",
    "                row = row + 1\n",
    "\n",
    "            # Constraints \n",
    "            if(const_mat[x,y]!=-1.):\n",
    "                A_triplet_list.append((row,getVarIndex(x,y,width,height),weight_mat[x,y]))\n",
    "                b_list.append((row,weight_mat[x,y]*const_mat[x,y]))              \n",
    "                row = row + 1\n",
    "                print(row,weight_mat[x,y]*const_mat[x,y])\n",
    "\n",
    "    # Convert triplets to matrix A\n",
    "    a = np.array(A_triplet_list)\n",
    "    ymax = int(a[:, 0].max())\n",
    "    xmax = int(a[:, 1].max())\n",
    "    A = np.zeros((ymax+1, xmax+1), np.float)\n",
    "    A[a[:, 0].astype(int), a[:, 1].astype(int)] = a[:, 2]\n",
    "    A = A.astype(float)\n",
    "\n",
    "    # Convert triplets to vector b\n",
    "    const = np.array(b_list)\n",
    "    b = np.zeros((A.shape[0]), np.float)\n",
    "    b[const[:, 0].astype(int)] = const[:, 1]\n",
    "\n",
    "    return A, b"
   ]
  },
  {
   "cell_type": "code",
   "execution_count": 48,
   "metadata": {},
   "outputs": [],
   "source": [
    "# interpolation solver\n",
    "def solveWithNormalEquation(width,height,constraints):\n",
    "    # Set up linear system\n",
    "    A, b = setUpNormalSystem(width,height,constraints)\n",
    "    # Solve with Cholesky\n",
    "    c, low = cho_factor(np.matmul(np.transpose(A),A))\n",
    "    x = cho_solve((c, low), np.matmul(np.transpose(A),b))\n",
    "    img = x.reshape((width, height))\n",
    "    return img"
   ]
  },
  {
   "cell_type": "code",
   "execution_count": 51,
   "metadata": {},
   "outputs": [],
   "source": [
    "# Set area size (number of cels = w*h)\n",
    "width  = 50\n",
    "height = 50\n",
    "\n",
    "# Set list of constraints (format: [(x,y,value,weight),(x,y,value,weight),(x,y,value,weight),...])\n",
    "# x and y must be in range (0 -> width-1, 0 -> height-1)\n",
    "# value mus be in range 0->max_data\n",
    "# weight must be in range 0.->1.\n",
    "constraints = [(20,20,0.,1.),(40,40,130.,1.)]"
   ]
  },
  {
   "cell_type": "code",
   "execution_count": 52,
   "metadata": {},
   "outputs": [
    {
     "name": "stdout",
     "output_type": "stream",
     "text": [
      "2023 0.0\n",
      "4044 130.0\n"
     ]
    },
    {
     "data": {
      "text/plain": [
       "<matplotlib.image.AxesImage at 0x1180e9a58>"
      ]
     },
     "execution_count": 52,
     "metadata": {},
     "output_type": "execute_result"
    },
    {
     "data": {
      "image/png": "[encoded data removed]",
      "text/plain": [
       "<Figure size 288x288 with 1 Axes>"
      ]
     },
     "metadata": {},
     "output_type": "display_data"
    }
   ],
   "source": [
    "# Solve linear interpolation\n",
    "interpolated = solveWithNormalEquation(width,height,constraints)\n",
    "# Interpolated is a 2D array of size (width,height). Each cel contains the interpolated value.\n",
    "plt.matshow(interpolated)"
   ]
  },
  {
   "cell_type": "code",
   "execution_count": 44,
   "metadata": {},
   "outputs": [
    {
     "name": "stdout",
     "output_type": "stream",
     "text": [
      "[[40.65359621 40.65359621 40.65371846 ... 45.90311004 45.93552015\n",
      "  45.9517602 ]\n",
      " [40.65359621 40.65347396 40.65335171 ... 45.91913943 45.95169021\n",
      "  45.96800025]\n",
      " [40.65371846 40.65335171 40.65274031 ... 45.95127031 45.98410103\n",
      "  46.00055032]\n",
      " ...\n",
      " [45.90311004 45.91913943 45.95127031 ... 62.05935675 62.0445004\n",
      "  62.03562791]\n",
      " [45.93552015 45.95169021 45.98410103 ... 62.0445004  62.0415429\n",
      "  62.0385854 ]\n",
      " [45.9517602  45.96800025 46.00055032 ... 62.03562791 62.0385854\n",
      "  62.0385854 ]]\n"
     ]
    }
   ],
   "source": [
    "# Always check values (debug)\n",
    "print(interpolated)"
   ]
  },
  {
   "cell_type": "code",
   "execution_count": null,
   "metadata": {},
   "outputs": [],
   "source": []
  }
 ],
 "metadata": {
  "kernelspec": {
   "display_name": "Python 3",
   "language": "python",
   "name": "python3"
  },
  "language_info": {
   "codemirror_mode": {
    "name": "ipython",
    "version": 3
   },
   "file_extension": ".py",
   "mimetype": "text/x-python",
   "name": "python",
   "nbconvert_exporter": "python",
   "pygments_lexer": "ipython3",
   "version": "3.7.0"
  }
 },
 "nbformat": 4,
 "nbformat_minor": 2
}
