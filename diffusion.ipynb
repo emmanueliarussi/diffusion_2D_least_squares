{
 "cells": [
  {
   "cell_type": "code",
   "execution_count": 1,
   "metadata": {},
   "outputs": [],
   "source": [
    "import numpy as np\n",
    "from matplotlib import pyplot as plt\n",
    "import numpy as np\n",
    "import cv2\n",
    "from scipy.linalg import cho_factor, cho_solve"
   ]
  },
  {
   "cell_type": "code",
   "execution_count": 2,
   "metadata": {},
   "outputs": [],
   "source": [
    "# Max index = number of unknowns\n",
    "def getVarIndex(x,y,width,height):\n",
    "    return y+(x*width)"
   ]
  },
  {
   "cell_type": "code",
   "execution_count": 29,
   "metadata": {},
   "outputs": [],
   "source": [
    "# Normal system\n",
    "def setUpNormalSystem(width,height,constraints):\n",
    "\n",
    "    # Constraints to array\n",
    "    constraints_np = np.array(constraints)\n",
    "    const_mat  = np.full((height, width),-1.,np.float)\n",
    "    weight_mat = np.full((height, width),0.,np.float)\n",
    "    \n",
    "    const_mat[constraints_np[:, 0].astype(int), constraints_np[:, 1].astype(int)]  = constraints_np[:, 2]\n",
    "    weight_mat[constraints_np[:, 0].astype(int), constraints_np[:, 1].astype(int)] = constraints_np[:, 3]\n",
    "    \n",
    "    # Triplet list -> (indx_constraint, unknown, val)\n",
    "    A_triplet_list = []\n",
    "    b_list = []\n",
    "    row = 0\n",
    "    \n",
    "    # Set up constraints\n",
    "    for x in range(0,width):\n",
    "        for y in range(0,height):\n",
    "            #print(x,y,\" --> \",getVarIndex(x,y,width,height))\n",
    "            # Horizontal Smoothness\n",
    "            if((x+1)!=width):\n",
    "                A_triplet_list.append((row,getVarIndex(x,y,width,height),-1))\n",
    "                A_triplet_list.append((row,getVarIndex(x+1,y,width,height),1))\n",
    "                row = row + 1\n",
    "\n",
    "            # Vertical Smoothness\n",
    "            if((y+1)!=height):\n",
    "                A_triplet_list.append((row,getVarIndex(x,y,width,height),-1))\n",
    "                A_triplet_list.append((row,getVarIndex(x,y+1,width,height),1))\n",
    "                row = row + 1\n",
    "\n",
    "            # Constraints \n",
    "            if(const_mat[x,y]!=-1.):\n",
    "                A_triplet_list.append((row,getVarIndex(x,y,width,height),weight_mat[x,y]))\n",
    "                b_list.append((row,weight_mat[x,y]*const_mat[x,y]))              \n",
    "                row = row + 1\n",
    "                #print(row,weight_mat[x,y]*const_mat[x,y])\n",
    "\n",
    "    # Convert triplets to matrix A\n",
    "    a = np.array(A_triplet_list)\n",
    "    ymax = int(a[:, 0].max())\n",
    "    xmax = int(a[:, 1].max())\n",
    "    A = np.zeros((ymax+1, xmax+1), np.float)\n",
    "    A[a[:, 0].astype(int), a[:, 1].astype(int)] = a[:, 2]\n",
    "    A = A.astype(float)\n",
    "\n",
    "    # Convert triplets to vector b\n",
    "    const = np.array(b_list)\n",
    "    b = np.zeros((A.shape[0]), np.float)\n",
    "    b[const[:, 0].astype(int)] = const[:, 1]\n",
    "\n",
    "    return A, b"
   ]
  },
  {
   "cell_type": "code",
   "execution_count": 30,
   "metadata": {},
   "outputs": [],
   "source": [
    "# Interpolation solver\n",
    "def solveWithNormalEquation(width,height,constraints):\n",
    "    # Set up linear system\n",
    "    A, b = setUpNormalSystem(width,height,constraints)\n",
    "    # Solve with Cholesky\n",
    "    c, low = cho_factor(np.matmul(np.transpose(A),A))\n",
    "    x = cho_solve((c, low), np.matmul(np.transpose(A),b))\n",
    "    img = x.reshape((width, height))\n",
    "    return img"
   ]
  },
  {
   "cell_type": "code",
   "execution_count": 55,
   "metadata": {},
   "outputs": [],
   "source": [
    "# Set area size (number of cels = w*h)\n",
    "width  = 60\n",
    "height = 60\n",
    "\n",
    "# Set list of constraints (format: [(x,y,value,weight),(x,y,value,weight),(x,y,value,weight),...])\n",
    "# x and y must be in range (0 -> width-1, 0 -> height-1)\n",
    "# value must be in range 0->255 (higher values can be used, but need to be properly scaled to RGB aftewards)\n",
    "# We set constraints on each chanel (RGB) independently\n",
    "# Weight is provided to be able to specify different impacts of each constraint over the final interpolation,\n",
    "# it must be a positive float\n",
    "constraints_r = [(15,30,255.,10.),(30,15,127.,10.),(45,30,255.,10.),(30,45,128.,10.)]\n",
    "constraints_g = [(15,30,0.,10.)  ,(30,15,255.,10.),(45,30,128.,10.),(30,45,128.,10.)]\n",
    "constraints_b = [(15,30,255.,10.),(30,15,0.,10.)  ,(45,30,0.,10.),(30,45,255.,10.)]"
   ]
  },
  {
   "cell_type": "code",
   "execution_count": 56,
   "metadata": {},
   "outputs": [],
   "source": [
    "# Solve linear interpolation on each channel\n",
    "interpolated_r = solveWithNormalEquation(width,height,constraints_r)\n",
    "interpolated_g = solveWithNormalEquation(width,height,constraints_g)\n",
    "interpolated_b = solveWithNormalEquation(width,height,constraints_b)"
   ]
  },
  {
   "cell_type": "code",
   "execution_count": 69,
   "metadata": {},
   "outputs": [
    {
     "data": {
      "text/plain": [
       "<matplotlib.image.AxesImage at 0x122bc0b38>"
      ]
     },
     "execution_count": 69,
     "metadata": {},
     "output_type": "execute_result"
    },
    {
     "data": {
      "image/png": "[encoded data removed]",
      "text/plain": [
       "<Figure size 432x288 with 1 Axes>"
      ]
     },
     "metadata": {},
     "output_type": "display_data"
    }
   ],
   "source": [
    "# Concat channels into rgb image\n",
    "interpolated_img = np.zeros([width,height,3])\n",
    "interpolated_img[:,:,0] = interpolated_b\n",
    "interpolated_img[:,:,1] = interpolated_g\n",
    "interpolated_img[:,:,2] = interpolated_r\n",
    "interpolated_img = interpolated_img.astype(int)\n",
    "\n",
    "# Show\n",
    "plt.imshow(interpolated_img)"
   ]
  },
  {
   "cell_type": "code",
   "execution_count": null,
   "metadata": {},
   "outputs": [],
   "source": []
  }
 ],
 "metadata": {
  "kernelspec": {
   "display_name": "Python 3",
   "language": "python",
   "name": "python3"
  },
  "language_info": {
   "codemirror_mode": {
    "name": "ipython",
    "version": 3
   },
   "file_extension": ".py",
   "mimetype": "text/x-python",
   "name": "python",
   "nbconvert_exporter": "python",
   "pygments_lexer": "ipython3",
   "version": "3.7.0"
  }
 },
 "nbformat": 4,
 "nbformat_minor": 2
}
